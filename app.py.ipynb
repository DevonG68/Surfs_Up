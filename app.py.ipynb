{
 "cells": [
  {
   "cell_type": "code",
   "execution_count": 3,
   "id": "f88b37f6",
   "metadata": {},
   "outputs": [],
   "source": [
    "#import flask dependencies\n",
    "from flask import Flask, jsonify"
   ]
  },
  {
   "cell_type": "code",
   "execution_count": 4,
   "id": "6fdadbb3",
   "metadata": {},
   "outputs": [],
   "source": [
    "#create a new flask app instance-singular version of something\n",
    "app = Flask(__name__)"
   ]
  },
  {
   "cell_type": "code",
   "execution_count": 5,
   "id": "770fcb6a",
   "metadata": {},
   "outputs": [],
   "source": [
    "#define the starting point(root)where to put data which is highest level of hiearchy with forward slash\n",
    "@app.route('/')\n",
    "#create a function called hello world\n",
    "def hello_world():\n",
    "    return jsonify(\"Hello world\")"
   ]
  },
  {
   "cell_type": "code",
   "execution_count": null,
   "id": "229c8d11",
   "metadata": {},
   "outputs": [],
   "source": []
  }
 ],
 "metadata": {
  "interpreter": {
   "hash": "4deb55c993de36025aa048a63bfd25b4f5a03e720d6ad86b896abb9771460b25"
  },
  "kernelspec": {
   "display_name": "Python 3.8.8 64-bit ('base': conda)",
   "name": "python3"
  },
  "language_info": {
   "codemirror_mode": {
    "name": "ipython",
    "version": 3
   },
   "file_extension": ".py",
   "mimetype": "text/x-python",
   "name": "python",
   "nbconvert_exporter": "python",
   "pygments_lexer": "ipython3",
   "version": "3.8.8"
  }
 },
 "nbformat": 4,
 "nbformat_minor": 5
}
